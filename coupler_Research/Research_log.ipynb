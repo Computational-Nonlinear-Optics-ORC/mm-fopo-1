{
 "cells": [
  {
   "cell_type": "markdown",
   "metadata": {},
   "source": [
    "# LOG of MM-FOPO\n",
    "\n",
    "What Im running:\n",
    "\n",
    "lamp2 = [1553.25,1554, 1555]\n",
    "\n",
    "\n",
    "lams = np.linspace(1549, 1565, 128, endpoint= None)"
   ]
  },
  {
   "cell_type": "markdown",
   "metadata": {},
   "source": [
    "# ToDO:\n",
    "* Vary the length of the fibre\n",
    "* Vary the percentage of the Signal circulated"
   ]
  },
  {
   "cell_type": "code",
   "execution_count": null,
   "metadata": {},
   "outputs": [],
   "source": []
  }
 ],
 "metadata": {
  "kernelspec": {
   "display_name": "Python 3",
   "language": "python",
   "name": "python3"
  },
  "language_info": {
   "codemirror_mode": {
    "name": "ipython",
    "version": 3
   },
   "file_extension": ".py",
   "mimetype": "text/x-python",
   "name": "python",
   "nbconvert_exporter": "python",
   "pygments_lexer": "ipython3",
   "version": "3.6.6"
  }
 },
 "nbformat": 4,
 "nbformat_minor": 2
}
